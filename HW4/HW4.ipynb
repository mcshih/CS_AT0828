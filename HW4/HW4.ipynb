{
 "cells": [
  {
   "cell_type": "code",
   "execution_count": 1,
   "metadata": {},
   "outputs": [],
   "source": [
    "import numpy as np\n",
    "import pandas as pd\n",
    "from sklearn.svm import SVC, SVR\n",
    "from sklearn.metrics import accuracy_score"
   ]
  },
  {
   "cell_type": "markdown",
   "metadata": {},
   "source": [
    "## Load data"
   ]
  },
  {
   "cell_type": "code",
   "execution_count": 2,
   "metadata": {},
   "outputs": [],
   "source": [
    "x_train = np.load(\"x_train.npy\")\n",
    "y_train = np.load(\"y_train.npy\")\n",
    "x_test = np.load(\"x_test.npy\")\n",
    "y_test = np.load(\"y_test.npy\")"
   ]
  },
  {
   "cell_type": "code",
   "execution_count": 3,
   "metadata": {},
   "outputs": [
    {
     "name": "stdout",
     "output_type": "stream",
     "text": [
      "(550, 300)\n"
     ]
    }
   ],
   "source": [
    "# 550 data with 300 features\n",
    "print(x_train.shape)"
   ]
  },
  {
   "cell_type": "code",
   "execution_count": 4,
   "metadata": {},
   "outputs": [
    {
     "name": "stdout",
     "output_type": "stream",
     "text": [
      "[0 1]\n"
     ]
    }
   ],
   "source": [
    "# It's a binary classification problem \n",
    "print(np.unique(y_train))"
   ]
  },
  {
   "cell_type": "markdown",
   "metadata": {},
   "source": [
    "## Question 1\n",
    "K-fold data partition: Implement the K-fold cross-validation function. Your function should take K as an argument and return a list of lists (len(list) should equal to K), which contains K elements. Each element is a list contains two parts, the first part contains the index of all training folds, e.g. Fold 2 to Fold 5 in split 1. The second part contains the index of validation fold, e.g. Fold 1 in  split 1"
   ]
  },
  {
   "cell_type": "code",
   "execution_count": 5,
   "metadata": {},
   "outputs": [],
   "source": [
    "def cross_validation(x_train, y_train, k=5):\n",
    "    length = len(x_train)\n",
    "    idx_list = list(range(length))\n",
    "    val_data = np.split(np.array(idx_list), k)\n",
    "    final_data = []\n",
    "    for fold in range(k):\n",
    "        list_train = []\n",
    "        list_val = []\n",
    "        for index in range(length):\n",
    "            if index in val_data[fold]:\n",
    "                list_val.append((x_train[index], y_train[index]))\n",
    "            else:\n",
    "                list_train.append((x_train[index], y_train[index]))\n",
    "        final_data.append([np.array(list_train),np.array(list_val)])\n",
    "    return final_data"
   ]
  },
  {
   "cell_type": "code",
   "execution_count": 6,
   "metadata": {},
   "outputs": [
    {
     "name": "stderr",
     "output_type": "stream",
     "text": [
      "/tmp/ipykernel_16637/4119303063.py:14: VisibleDeprecationWarning: Creating an ndarray from ragged nested sequences (which is a list-or-tuple of lists-or-tuples-or ndarrays with different lengths or shapes) is deprecated. If you meant to do this, you must specify 'dtype=object' when creating the ndarray\n",
      "  final_data.append([np.array(list_train),np.array(list_val)])\n"
     ]
    }
   ],
   "source": [
    "kfold_data = cross_validation(x_train, y_train, k=10)\n",
    "assert len(kfold_data) == 10 # should contain 10 fold of data\n",
    "assert len(kfold_data[0]) == 2 # each element should contain train fold and validation fold\n",
    "assert kfold_data[0][1].shape[0] == 55 # The number of data in each validation fold should equal to training data divieded by K"
   ]
  },
  {
   "cell_type": "markdown",
   "metadata": {},
   "source": [
    "## example"
   ]
  },
  {
   "cell_type": "code",
   "execution_count": 7,
   "metadata": {},
   "outputs": [
    {
     "name": "stdout",
     "output_type": "stream",
     "text": [
      "Split: 1, Training index: [ 0  1  4  5  6  7  8  9 10 13 14 15 16 17 18 19], Validation index: [ 2  3 11 12]\n",
      "Split: 2, Training index: [ 0  1  2  3  6  7  8  9 10 11 12 13 14 15 16 17], Validation index: [ 4  5 18 19]\n",
      "Split: 3, Training index: [ 0  2  3  4  5  7  8  9 10 11 12 14 16 17 18 19], Validation index: [ 1  6 13 15]\n",
      "Split: 4, Training index: [ 0  1  2  3  4  5  6 10 11 12 13 14 15 17 18 19], Validation index: [ 7  8  9 16]\n",
      "Split: 5, Training index: [ 1  2  3  4  5  6  7  8  9 11 12 13 15 16 18 19], Validation index: [ 0 10 14 17]\n"
     ]
    }
   ],
   "source": [
    "from sklearn.model_selection import KFold\n",
    "\n",
    "X = np.arange(20)\n",
    "kf = KFold(n_splits=5, shuffle=True)\n",
    "kfold_data= []\n",
    "for i, (train_index, val_index) in enumerate(kf.split(X)):\n",
    "    print(\"Split: %s, Training index: %s, Validation index: %s\" % (i+1, train_index, val_index))\n",
    "    kfold_data.append([train_index, val_index])"
   ]
  },
  {
   "cell_type": "code",
   "execution_count": 8,
   "metadata": {},
   "outputs": [],
   "source": [
    "assert len(kfold_data) == 5 # should contain 5 fold of data\n",
    "assert len(kfold_data[0]) == 2 # each element should contains index of training fold and validation fold\n",
    "assert kfold_data[0][1].shape[0] == 4 # The number of data in each validation fold should equal to training data divieded by K"
   ]
  },
  {
   "cell_type": "markdown",
   "metadata": {},
   "source": [
    "## Question 2\n",
    "Using sklearn.svm.SVC to train a classifier on the provided train set and conduct the grid search of “C” and “gamma” to find the best parameters by cross-validation."
   ]
  },
  {
   "cell_type": "code",
   "execution_count": 9,
   "metadata": {},
   "outputs": [],
   "source": [
    "clf = SVC(C=1.0, kernel='rbf', gamma=0.01)"
   ]
  },
  {
   "cell_type": "code",
   "execution_count": 10,
   "metadata": {},
   "outputs": [
    {
     "name": "stdout",
     "output_type": "stream",
     "text": [
      "[[0.68909091 0.68909091 0.68909091 0.68909091 0.68909091 0.68909091\n",
      "  0.88       0.88727273]\n",
      " [0.68909091 0.68909091 0.68909091 0.68909091 0.68909091 0.69090909\n",
      "  0.88545455 0.87272727]\n",
      " [0.68909091 0.68909091 0.68909091 0.68909091 0.68909091 0.68909091\n",
      "  0.88545455 0.87090909]\n",
      " [0.68909091 0.68909091 0.68909091 0.68909091 0.68909091 0.69090909\n",
      "  0.89818182 0.71636364]\n",
      " [0.68909091 0.68909091 0.68909091 0.68909091 0.68909091 0.68909091\n",
      "  0.68909091 0.68909091]\n",
      " [0.68909091 0.68909091 0.68909091 0.68909091 0.68909091 0.68909091\n",
      "  0.68909091 0.68909091]\n",
      " [0.68909091 0.68909091 0.68909091 0.68909091 0.68909091 0.68909091\n",
      "  0.68909091 0.68909091]]\n"
     ]
    }
   ],
   "source": [
    "## your code\n",
    "grid_C = [10000., 1000., 100., 10., 1, 0.1, 0.01]\n",
    "grid_gamma = [1000., 100., 10., 1, 0.1, 0.01, 0.001, 0.0001]\n",
    "all_mean_score = np.zeros((len(grid_C), len(grid_gamma)))\n",
    "\n",
    "for X, para_C in enumerate(grid_C):\n",
    "    for Y, para_gamma in enumerate(grid_gamma):\n",
    "        #print(\"grid: C: %s, gamma: %s\" % (para_C, para_gamma))\n",
    "\n",
    "        K = 5\n",
    "        kf = KFold(n_splits=K, shuffle=True)\n",
    "        score_list = []\n",
    "        for i, (train_index, val_index) in enumerate(kf.split(x_train)):\n",
    "            x_train_part = []\n",
    "            y_train_part = []\n",
    "            x_val_part = []\n",
    "            y_val_part = []\n",
    "            for index in range(len(x_train)):\n",
    "                if index in train_index:\n",
    "                    x_train_part.append(x_train[index])\n",
    "                    y_train_part.append(y_train[index])\n",
    "                else:\n",
    "                    x_val_part.append(x_train[index])\n",
    "                    y_val_part.append(y_train[index])\n",
    "            \n",
    "            clf = SVC(C=para_C, kernel='rbf', gamma=para_gamma).fit(x_train_part, y_train_part)\n",
    "            score = clf.score(x_val_part, y_val_part)\n",
    "            #print(score, end=\"\\t\")\n",
    "            score_list.append(score)    \n",
    "        all_mean_score[X][Y] = np.mean(score_list)\n",
    "\n",
    "print(all_mean_score)"
   ]
  },
  {
   "cell_type": "code",
   "execution_count": 12,
   "metadata": {},
   "outputs": [
    {
     "name": "stdout",
     "output_type": "stream",
     "text": [
      "(10.0, 0.001)\n"
     ]
    }
   ],
   "source": [
    "best_score = -1\n",
    "best_parameters = (-1, -1)\n",
    "for X in range(len(grid_C)):\n",
    "    for Y in range(len(grid_gamma)):\n",
    "        if all_mean_score[X][Y] > best_score:\n",
    "            best_parameters = (grid_C[X], grid_gamma[Y])\n",
    "            best_score = all_mean_score[X][Y]\n",
    "\n",
    "print(best_parameters)"
   ]
  },
  {
   "cell_type": "markdown",
   "metadata": {},
   "source": [
    "## Question 3\n",
    "Plot the grid search results of your SVM. The x, y represents the hyperparameters of “gamma” and “C”, respectively. And the color represents the average score of validation folds\n",
    "You reults should be look like this reference image below ![image](https://miro.medium.com/max/1296/1*wGWTup9r4cVytB5MOnsjdQ.png) "
   ]
  },
  {
   "cell_type": "code",
   "execution_count": 14,
   "metadata": {},
   "outputs": [
    {
     "data": {
      "image/png": "[encoded data removed]",
      "text/plain": [
       "<Figure size 432x288 with 1 Axes>"
      ]
     },
     "metadata": {
      "needs_background": "light"
     },
     "output_type": "display_data"
    }
   ],
   "source": [
    "import matplotlib.pyplot as plt\n",
    "\n",
    "plt.imshow(all_mean_score, cmap='gist_rainbow')\n",
    "plt.show()"
   ]
  },
  {
   "cell_type": "markdown",
   "metadata": {},
   "source": [
    "## Question 4\n",
    "Train your SVM model by the best parameters you found from question 2 on the whole training set and evaluate the performance on the test set."
   ]
  },
  {
   "cell_type": "code",
   "execution_count": 15,
   "metadata": {},
   "outputs": [
    {
     "name": "stdout",
     "output_type": "stream",
     "text": [
      "Accuracy score:  0.8958333333333334\n"
     ]
    }
   ],
   "source": [
    "best_para_C, best_para_gamma = best_parameters\n",
    "\n",
    "best_model = SVC(C=best_para_C, kernel='rbf', gamma=best_para_gamma).fit(x_train, y_train)\n",
    "\n",
    "y_pred = best_model.predict(x_test)\n",
    "print(\"Accuracy score: \", accuracy_score(y_pred, y_test))"
   ]
  }
 ],
 "metadata": {
  "interpreter": {
   "hash": "eb38cdc93567307ab4accfb59d38a4ec7f33df93973f81a77b6fa6936a94a054"
  },
  "kernelspec": {
   "display_name": "Python 3.9.7 ('doctr')",
   "language": "python",
   "name": "python3"
  },
  "language_info": {
   "codemirror_mode": {
    "name": "ipython",
    "version": 3
   },
   "file_extension": ".py",
   "mimetype": "text/x-python",
   "name": "python",
   "nbconvert_exporter": "python",
   "pygments_lexer": "ipython3",
   "version": "3.9.7"
  }
 },
 "nbformat": 4,
 "nbformat_minor": 4
}
